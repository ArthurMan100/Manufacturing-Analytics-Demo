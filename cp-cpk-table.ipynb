{
 "cells": [
  {
   "cell_type": "code",
   "execution_count": 40,
   "id": "29e00eac",
   "metadata": {},
   "outputs": [],
   "source": [
    "import pandas as pd\n",
    "from sqlalchemy import create_engine, text\n",
    "from datetime import datetime\n",
    "import hashlib\n",
    "from dotenv import load_dotenv\n",
    "import os\n",
    "\n",
    "# Load DB credentials\n",
    "load_dotenv()\n",
    "\n",
    "PG_USER = os.getenv(\"PG_USER\")\n",
    "PG_PASSWORD = os.getenv(\"PG_PASSWORD\")\n",
    "PG_HOST = os.getenv(\"PG_HOST\")\n",
    "PG_PORT = os.getenv(\"PG_PORT\", \"5432\")\n",
    "PG_DB = os.getenv(\"PG_DB\")\n",
    "\n",
    "\n",
    "# --- Setup connection ---\n",
    "conn_str = f\"postgresql://{PG_USER}:{PG_PASSWORD}@{PG_HOST}:{PG_PORT}/{PG_DB}\"\n",
    "engine = create_engine(conn_str)  # replace conn_str with your actual connection string\n",
    "\n",
    "# --- Step 1: Create tables ---\n",
    "\n",
    "with open(\"../sql/create_cp_cpk_tables.sql\", \"r\") as f:\n",
    "    create_tables_sql = f.read()\n",
    "\n",
    "with engine.begin() as conn: \n",
    "    conn.execute(text(create_tables_sql))\n"
   ]
  },
  {
   "cell_type": "code",
   "execution_count": 41,
   "id": "79bb1404",
   "metadata": {},
   "outputs": [],
   "source": [
    "# --- Step 2: Query latest 30 measurements per material-variable ---\n",
    "\n",
    "qc_query = \"\"\"\n",
    "WITH ranked_data AS (\n",
    "    SELECT *,\n",
    "           ROW_NUMBER() OVER (PARTITION BY material_no, variable ORDER BY measurement_date DESC) AS rank\n",
    "    FROM manufacturing_qc\n",
    "    WHERE lsl IS NOT NULL AND usl IS NOT NULL\n",
    ")\n",
    "SELECT * FROM ranked_data WHERE rank <= 10\n",
    "ORDER BY material_no, variable, measurement_date;\n",
    "\"\"\"\n",
    "\n",
    "qc_df = pd.read_sql(qc_query, engine)\n"
   ]
  },
  {
   "cell_type": "code",
   "execution_count": 42,
   "id": "9157fcda",
   "metadata": {},
   "outputs": [],
   "source": [
    "# --- Step 3: Calculate moving range, sigma_within, mean_value, Cp, Cpk ---\n",
    "\n",
    "qc_df['moving_range'] = qc_df.groupby(['material_no', 'variable'])['measurement_value'].diff().abs()\n",
    "\n",
    "qc_df['sigma_within'] = qc_df.groupby(['material_no', 'variable'])['moving_range'].transform('mean') / 1.128\n",
    "qc_df['mean_value'] = qc_df.groupby(['material_no', 'variable'])['measurement_value'].transform('mean')\n",
    "\n",
    "qc_df['cp'] = (qc_df['usl'] - qc_df['lsl']) / (6 * qc_df['sigma_within'])\n",
    "\n",
    "def calc_cpk(row):\n",
    "    if row['sigma_within'] == 0 or pd.isna(row['sigma_within']):\n",
    "        return None\n",
    "    return min(\n",
    "        (row['usl'] - row['mean_value']) / (3 * row['sigma_within']),\n",
    "        (row['mean_value'] - row['lsl']) / (3 * row['sigma_within'])\n",
    "    )\n",
    "\n",
    "qc_df['cpk'] = qc_df.apply(calc_cpk, axis=1)\n",
    "\n",
    "calc_time = datetime.now()\n",
    "qc_df['calculation_time'] = calc_time\n",
    "qc_df['calculation_id'] = qc_df.apply(\n",
    "    lambda r: hashlib.md5(f\"{r['material_no']}_{r['variable']}_{calc_time.isoformat()}\".encode()).hexdigest(),\n",
    "    axis=1\n",
    ")\n",
    "\n"
   ]
  },
  {
   "cell_type": "code",
   "execution_count": 43,
   "id": "f7d6f743",
   "metadata": {},
   "outputs": [
    {
     "name": "stdout",
     "output_type": "stream",
     "text": [
      "✅ Inserted into cp_cpk_wide.\n"
     ]
    }
   ],
   "source": [
    "# --- Step 4: Write wide table ---\n",
    "wide_cols = [\n",
    "    'calculation_id', 'work_order', 'material_no', 'material_type', 'variable',\n",
    "    'measurement_date', 'measurement_value', 'lsl', 'usl', 'moving_range',\n",
    "    'sigma_within', 'mean_value', 'cp', 'cpk', 'calculation_time'\n",
    "]\n",
    "\n",
    "qc_df[wide_cols].to_sql('cp_cpk_wide', engine, if_exists='append', index=False)\n",
    "print(\"✅ Inserted into cp_cpk_wide.\")\n"
   ]
  },
  {
   "cell_type": "code",
   "execution_count": 44,
   "id": "cba8b289",
   "metadata": {},
   "outputs": [],
   "source": [
    "# --- Step 5: Aggregate summary table ---\n",
    "\n",
    "summary_df = (\n",
    "    qc_df.groupby(['material_no', 'material_type', 'variable'])\n",
    "    .agg({\n",
    "        'cp': 'mean',\n",
    "        'cpk': 'mean'\n",
    "    }).reset_index()\n",
    ")\n",
    "\n",
    "summary_df['calculation_time'] = calc_time\n",
    "# Pick the first calculation_id from each group — since it's the same for all rows in the group\n",
    "summary_ids = (\n",
    "    qc_df.groupby(['material_no', 'material_type', 'variable'])['calculation_id']\n",
    "    .first()\n",
    "    .reset_index()\n",
    ")\n",
    "\n",
    "# Merge that into the summary_df\n",
    "summary_df = summary_df.merge(summary_ids, on=['material_no', 'material_type', 'variable'])\n",
    "\n",
    "# Add calculation_time if not already there\n",
    "summary_df['calculation_time'] = calc_time\n",
    "\n"
   ]
  },
  {
   "cell_type": "code",
   "execution_count": 45,
   "id": "05c886b7",
   "metadata": {},
   "outputs": [
    {
     "name": "stdout",
     "output_type": "stream",
     "text": [
      "✅ Inserted into cp_cpk_summary.\n"
     ]
    }
   ],
   "source": [
    "\n",
    "# --- Step 6: Write summary table ---\n",
    "summary_cols = [\n",
    "    'calculation_id', 'material_no', 'material_type', 'variable', 'cp', 'cpk',\n",
    "    'calculation_time'\n",
    "]\n",
    "\n",
    "summary_df[summary_cols].to_sql('cp_cpk_summary', engine, if_exists='append', index=False)\n",
    "print(\"✅ Inserted into cp_cpk_summary.\")"
   ]
  }
 ],
 "metadata": {
  "kernelspec": {
   "display_name": "base",
   "language": "python",
   "name": "python3"
  },
  "language_info": {
   "codemirror_mode": {
    "name": "ipython",
    "version": 3
   },
   "file_extension": ".py",
   "mimetype": "text/x-python",
   "name": "python",
   "nbconvert_exporter": "python",
   "pygments_lexer": "ipython3",
   "version": "3.11.5"
  }
 },
 "nbformat": 4,
 "nbformat_minor": 5
}
